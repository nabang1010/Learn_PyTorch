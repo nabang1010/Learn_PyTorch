{
 "cells": [
  {
   "cell_type": "code",
   "execution_count": 176,
   "metadata": {},
   "outputs": [],
   "source": [
    "from copy import deepcopy\n",
    "import numpy as np\n",
    "from tqdm import tqdm"
   ]
  },
  {
   "cell_type": "code",
   "execution_count": 177,
   "metadata": {},
   "outputs": [
    {
     "data": {
      "text/plain": [
       "array([[1, 1]])"
      ]
     },
     "execution_count": 177,
     "metadata": {},
     "output_type": "execute_result"
    }
   ],
   "source": [
    "x = np.array([[1,1]])\n",
    "x"
   ]
  },
  {
   "cell_type": "code",
   "execution_count": 178,
   "metadata": {},
   "outputs": [
    {
     "data": {
      "text/plain": [
       "array([[0]])"
      ]
     },
     "execution_count": 178,
     "metadata": {},
     "output_type": "execute_result"
    }
   ],
   "source": [
    "y = np.array([[0]])\n",
    "y"
   ]
  },
  {
   "cell_type": "code",
   "execution_count": 179,
   "metadata": {},
   "outputs": [],
   "source": [
    "# W = [\n",
    "#     np.array([[-0.0053, 0.3793],\n",
    "#               [-0.5820, -0.5204],\n",
    "#               [-0.2723, 0.1896]], dtype=np.float32).T,\n",
    "#     np.array([-0.0140, 0.5607, -0.0628], dtype=np.float32),\n",
    "#     np.array([[0.1528, -0.1745, -0.1135]], dtype=np.float32).T,\n",
    "#     np.array([-0.5516], dtype=np.float32)\n",
    "# ]\n"
   ]
  },
  {
   "cell_type": "code",
   "execution_count": 180,
   "metadata": {},
   "outputs": [
    {
     "data": {
      "text/plain": [
       "[array([[-0.5062215 , -0.7836605 , -0.7161872 ],\n",
       "        [ 0.35352844,  0.8800983 ,  0.91344464]], dtype=float32),\n",
       " array([[-0.19377336,  0.4425871 , -0.8281401 ]], dtype=float32),\n",
       " array([[0.38188154],\n",
       "        [0.4502526 ],\n",
       "        [0.9870916 ]], dtype=float32),\n",
       " array([[-0.40761703]], dtype=float32)]"
      ]
     },
     "execution_count": 180,
     "metadata": {},
     "output_type": "execute_result"
    }
   ],
   "source": [
    "W = [\n",
    "    np.array(np.random.rand(3,2) * 2 - 1, dtype=np.float32).T, # input to hidden\n",
    "    np.array(np.random.rand(1,3) * 2 - 1, dtype=np.float32),   # three bias values\n",
    "    np.array(np.random.rand(1,3) * 2 - 1, dtype=np.float32).T, # hidden to output\n",
    "    np.array(np.random.rand(1,1) * 2 - 1, dtype=np.float32)    # one bias value\n",
    "]\n",
    "W"
   ]
  },
  {
   "cell_type": "code",
   "execution_count": 181,
   "metadata": {},
   "outputs": [],
   "source": [
    "def feed_forward(inputs, outputs, weights):\n",
    "    weight_1 = weights[0]\n",
    "    bias_1 = weights[1]\n",
    "    pre_hidden = np.dot(inputs, weight_1) + bias_1\n",
    "    hidden = 1/ (1 + np.exp(-pre_hidden))\n",
    "    weight_2 = weights[2]\n",
    "    bias_2 = weights[3]\n",
    "    pred_out = np.dot(hidden, weight_2) + bias_2\n",
    "    mse = np.mean(np.square(pred_out - outputs))\n",
    "    return mse"
   ]
  },
  {
   "cell_type": "code",
   "execution_count": 182,
   "metadata": {},
   "outputs": [],
   "source": [
    "def update_weights(inputs, outputs, weights, lr):\n",
    "    orginal_weights = deepcopy(weights)\n",
    "    temp_weights = deepcopy(weights)\n",
    "    updated_weights = deepcopy(weights)\n",
    "    orginal_loss = feed_forward(inputs, outputs, orginal_weights)\n",
    "    for i, layer in enumerate(orginal_weights):\n",
    "        for index, weight in np.ndenumerate(layer):\n",
    "            temp_weights = deepcopy(weights)\n",
    "            temp_weights[i][index] += 0.0001\n",
    "            _loss_plus = feed_forward(inputs, outputs, temp_weights)\n",
    "            grad = (_loss_plus - orginal_loss)/0.0001\n",
    "            updated_weights[i][index] -= grad*lr\n",
    "    return updated_weights, orginal_loss"
   ]
  },
  {
   "cell_type": "code",
   "execution_count": 183,
   "metadata": {},
   "outputs": [
    {
     "name": "stderr",
     "output_type": "stream",
     "text": [
      "100%|██████████| 1000/1000 [00:00<00:00, 1652.87it/s]\n"
     ]
    }
   ],
   "source": [
    "losses = []\n",
    "for epoch in tqdm(range(1000)):\n",
    "    W, loss = update_weights(x, y, W, 0.01)\n",
    "    losses.append(loss)"
   ]
  },
  {
   "cell_type": "code",
   "execution_count": 184,
   "metadata": {},
   "outputs": [
    {
     "data": {
      "image/png": "[encoded data removed]",
      "text/plain": [
       "<Figure size 640x480 with 1 Axes>"
      ]
     },
     "metadata": {},
     "output_type": "display_data"
    }
   ],
   "source": [
    "import matplotlib.pyplot as plt\n",
    "%matplotlib inline\n",
    "plt.plot(losses)\n",
    "plt.title('Loss over increasing number of epochs')\n",
    "plt.xlabel('Epochs')\n",
    "plt.ylabel('Loss value')\n",
    "plt.show()\n"
   ]
  },
  {
   "cell_type": "code",
   "execution_count": 185,
   "metadata": {},
   "outputs": [
    {
     "data": {
      "text/plain": [
       "[array([[-0.523003  , -0.8021674 , -0.75936615],\n",
       "        [ 0.33675078,  0.86159134,  0.87026566]], dtype=float32),\n",
       " array([[-0.21056311,  0.424085  , -0.87131906]], dtype=float32),\n",
       " array([[0.29858944],\n",
       "        [0.32253686],\n",
       "        [0.91913813]], dtype=float32),\n",
       " array([[-0.6124029]], dtype=float32)]"
      ]
     },
     "execution_count": 185,
     "metadata": {},
     "output_type": "execute_result"
    }
   ],
   "source": [
    "W"
   ]
  },
  {
   "cell_type": "code",
   "execution_count": 186,
   "metadata": {},
   "outputs": [
    {
     "data": {
      "text/plain": [
       "array([[-3.69391118e-05]])"
      ]
     },
     "execution_count": 186,
     "metadata": {},
     "output_type": "execute_result"
    }
   ],
   "source": [
    "pre_hidden = np.dot(x, W[0]) + W[1]\n",
    "hiden = 1/ (1 + np.exp(-pre_hidden))\n",
    "pred_out = np.dot(hiden, W[2]) + W[3]\n",
    "pred_out"
   ]
  }
 ],
 "metadata": {
  "kernelspec": {
   "display_name": "Python 3.7.13 ('pytorch')",
   "language": "python",
   "name": "python3"
  },
  "language_info": {
   "codemirror_mode": {
    "name": "ipython",
    "version": 3
   },
   "file_extension": ".py",
   "mimetype": "text/x-python",
   "name": "python",
   "nbconvert_exporter": "python",
   "pygments_lexer": "ipython3",
   "version": "3.7.13"
  },
  "orig_nbformat": 4,
  "vscode": {
   "interpreter": {
    "hash": "ae33be8d070ec4898e41bd67cea534f6c799a555c8d7c158f20e5f493ed530b3"
   }
  }
 },
 "nbformat": 4,
 "nbformat_minor": 2
}
