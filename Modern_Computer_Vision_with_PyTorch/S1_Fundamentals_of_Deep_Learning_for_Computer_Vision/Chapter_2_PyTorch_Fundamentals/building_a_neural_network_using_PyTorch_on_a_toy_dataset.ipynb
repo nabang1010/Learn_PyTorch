{
 "cells": [
  {
   "cell_type": "code",
   "execution_count": 1,
   "metadata": {},
   "outputs": [],
   "source": [
    "import torch"
   ]
  },
  {
   "cell_type": "code",
   "execution_count": 2,
   "metadata": {},
   "outputs": [],
   "source": [
    "x = [[1,2],[3,4],[5,6],[7,8]]\n",
    "y = [[3],[7],[11],[15]]"
   ]
  },
  {
   "cell_type": "code",
   "execution_count": 3,
   "metadata": {},
   "outputs": [],
   "source": [
    "X = torch.tensor(x).float()\n",
    "Y = torch.tensor(y).float()"
   ]
  },
  {
   "cell_type": "code",
   "execution_count": 4,
   "metadata": {},
   "outputs": [],
   "source": [
    "device = 'cuda'"
   ]
  },
  {
   "cell_type": "code",
   "execution_count": 5,
   "metadata": {},
   "outputs": [],
   "source": [
    "X = X.to(device)\n",
    "Y = Y.to(device)"
   ]
  },
  {
   "cell_type": "code",
   "execution_count": 6,
   "metadata": {},
   "outputs": [],
   "source": [
    "import torch.nn as nn"
   ]
  },
  {
   "cell_type": "markdown",
   "metadata": {},
   "source": [
    "## Define the neural network architecture"
   ]
  },
  {
   "cell_type": "code",
   "execution_count": 7,
   "metadata": {},
   "outputs": [],
   "source": [
    "class MyNeuralNetwork(nn.Module): \n",
    "    def __init__(self):\n",
    "        super().__init__()\n",
    "        self.input_to_hidden = nn.Linear(2, 8)\n",
    "        self.hidden_layer_activation = nn.ReLU()\n",
    "        self.hidden_to_output_layer = nn.Linear(8, 1)\n",
    "    def forward(self, x):\n",
    "        x = self.input_to_hidden(x)\n",
    "        x = self.hidden_layer_activation(x)\n",
    "        x = self.hidden_to_output_layer(x)\n",
    "        return x"
   ]
  },
  {
   "cell_type": "markdown",
   "metadata": {},
   "source": [
    "## Initialzing Weight"
   ]
  },
  {
   "cell_type": "code",
   "execution_count": 8,
   "metadata": {},
   "outputs": [
    {
     "data": {
      "text/plain": [
       "<torch._C.Generator at 0x1db0de1bfd0>"
      ]
     },
     "execution_count": 8,
     "metadata": {},
     "output_type": "execute_result"
    }
   ],
   "source": [
    "torch.manual_seed(0)"
   ]
  },
  {
   "cell_type": "code",
   "execution_count": 9,
   "metadata": {},
   "outputs": [],
   "source": [
    "my_net = MyNeuralNetwork().to(device)"
   ]
  },
  {
   "cell_type": "code",
   "execution_count": 10,
   "metadata": {},
   "outputs": [
    {
     "data": {
      "text/plain": [
       "Parameter containing:\n",
       "tensor([[-0.0053,  0.3793],\n",
       "        [-0.5820, -0.5204],\n",
       "        [-0.2723,  0.1896],\n",
       "        [-0.0140,  0.5607],\n",
       "        [-0.0628,  0.1871],\n",
       "        [-0.2137, -0.1390],\n",
       "        [-0.6755, -0.4683],\n",
       "        [-0.2915,  0.0262]], device='cuda:0', requires_grad=True)"
      ]
     },
     "execution_count": 10,
     "metadata": {},
     "output_type": "execute_result"
    }
   ],
   "source": [
    "my_net.input_to_hidden.weight"
   ]
  },
  {
   "cell_type": "code",
   "execution_count": 11,
   "metadata": {},
   "outputs": [
    {
     "data": {
      "text/plain": [
       "<generator object Module.parameters at 0x000001DB3220B8C8>"
      ]
     },
     "execution_count": 11,
     "metadata": {},
     "output_type": "execute_result"
    }
   ],
   "source": [
    "my_net.parameters()"
   ]
  },
  {
   "cell_type": "code",
   "execution_count": 12,
   "metadata": {},
   "outputs": [
    {
     "name": "stdout",
     "output_type": "stream",
     "text": [
      "Parameter containing:\n",
      "tensor([[-0.0053,  0.3793],\n",
      "        [-0.5820, -0.5204],\n",
      "        [-0.2723,  0.1896],\n",
      "        [-0.0140,  0.5607],\n",
      "        [-0.0628,  0.1871],\n",
      "        [-0.2137, -0.1390],\n",
      "        [-0.6755, -0.4683],\n",
      "        [-0.2915,  0.0262]], device='cuda:0', requires_grad=True)\n",
      "Parameter containing:\n",
      "tensor([ 0.2795,  0.4243, -0.4794, -0.3079,  0.2568,  0.5872, -0.1455,  0.5291],\n",
      "       device='cuda:0', requires_grad=True)\n",
      "Parameter containing:\n",
      "tensor([[-0.0570,  0.0374,  0.3201, -0.3280, -0.2226, -0.0895, -0.1378,  0.3055]],\n",
      "       device='cuda:0', requires_grad=True)\n",
      "Parameter containing:\n",
      "tensor([-0.2292], device='cuda:0', requires_grad=True)\n"
     ]
    }
   ],
   "source": [
    "for par in my_net.parameters():\n",
    "    print(par)"
   ]
  },
  {
   "cell_type": "code",
   "execution_count": 13,
   "metadata": {},
   "outputs": [],
   "source": [
    "class MyNeuralNet(nn.Module):\n",
    "    def __init__(self):\n",
    "\n",
    "\n",
    "        super().__init__()\n",
    "        self.input_to_hidden_layer = nn.Parameter(\n",
    "            torch.rand(2, 8))\n",
    "        self.hidden_layer_activation = nn.ReLU()\n",
    "        self.hidden_to_output_layer = nn.Parameter(\n",
    "            torch.rand(8, 1))\n",
    "\n",
    "\n",
    "    def forward(self, x):\n",
    "\n",
    "\n",
    "        x = x @ self.input_to_hidden_layer\n",
    "        x = self.hidden_layer_activation(x)\n",
    "        x = x @ self.hidden_to_output_layer\n",
    "        return x\n"
   ]
  },
  {
   "cell_type": "code",
   "execution_count": 14,
   "metadata": {},
   "outputs": [],
   "source": [
    "my_net = MyNeuralNet().to(device)"
   ]
  },
  {
   "cell_type": "code",
   "execution_count": 15,
   "metadata": {},
   "outputs": [],
   "source": [
    "loss_func = nn.MSELoss()"
   ]
  },
  {
   "cell_type": "code",
   "execution_count": 16,
   "metadata": {},
   "outputs": [
    {
     "name": "stdout",
     "output_type": "stream",
     "text": [
      "tensor(89.8803, device='cuda:0', grad_fn=<MseLossBackward0>)\n"
     ]
    }
   ],
   "source": [
    "_Y = my_net(X)\n",
    "loss_value = loss_func(_Y,Y)\n",
    "print(loss_value)"
   ]
  },
  {
   "cell_type": "code",
   "execution_count": 17,
   "metadata": {},
   "outputs": [],
   "source": [
    "from torch.optim import SGD"
   ]
  },
  {
   "cell_type": "code",
   "execution_count": 18,
   "metadata": {},
   "outputs": [],
   "source": [
    "otp = SGD(my_net.parameters(), lr=0.001)"
   ]
  },
  {
   "cell_type": "code",
   "execution_count": 19,
   "metadata": {},
   "outputs": [],
   "source": [
    "otp.zero_grad()\n",
    "loss_value = loss_func(my_net(X),Y)\n",
    "loss_value.backward()\n",
    "otp.step()"
   ]
  },
  {
   "cell_type": "code",
   "execution_count": 20,
   "metadata": {},
   "outputs": [
    {
     "name": "stdout",
     "output_type": "stream",
     "text": [
      "Parameter containing:\n",
      "tensor([[ 0.2280,  0.0795, -0.0548,  0.1475,  0.8805,  0.6506,  0.7245,  0.4748],\n",
      "        [ 0.1937,  0.4995, -0.0703,  0.0663,  0.1834,  0.7288,  0.7718,  0.2167]],\n",
      "       device='cuda:0', requires_grad=True)\n",
      "Parameter containing:\n",
      "tensor([[0.4333],\n",
      "        [0.7460],\n",
      "        [0.9909],\n",
      "        [0.6660],\n",
      "        [0.4617],\n",
      "        [0.6879],\n",
      "        [0.0589],\n",
      "        [0.5186]], device='cuda:0', requires_grad=True)\n"
     ]
    }
   ],
   "source": [
    "my_net.parameters()\n",
    "for par in my_net.parameters():\n",
    "    print(par)"
   ]
  },
  {
   "cell_type": "code",
   "execution_count": 21,
   "metadata": {},
   "outputs": [
    {
     "name": "stdout",
     "output_type": "stream",
     "text": [
      "tensor(10.0240, device='cuda:0', grad_fn=<MseLossBackward0>)\n",
      "tensor(2.2699, device='cuda:0', grad_fn=<MseLossBackward0>)\n",
      "tensor(0.5769, device='cuda:0', grad_fn=<MseLossBackward0>)\n",
      "tensor(0.1543, device='cuda:0', grad_fn=<MseLossBackward0>)\n",
      "tensor(0.0428, device='cuda:0', grad_fn=<MseLossBackward0>)\n",
      "tensor(0.0126, device='cuda:0', grad_fn=<MseLossBackward0>)\n",
      "tensor(0.0043, device='cuda:0', grad_fn=<MseLossBackward0>)\n",
      "tensor(0.0020, device='cuda:0', grad_fn=<MseLossBackward0>)\n",
      "tensor(0.0013, device='cuda:0', grad_fn=<MseLossBackward0>)\n",
      "tensor(0.0011, device='cuda:0', grad_fn=<MseLossBackward0>)\n",
      "tensor(0.0011, device='cuda:0', grad_fn=<MseLossBackward0>)\n",
      "tensor(0.0011, device='cuda:0', grad_fn=<MseLossBackward0>)\n",
      "tensor(0.0011, device='cuda:0', grad_fn=<MseLossBackward0>)\n",
      "tensor(0.0011, device='cuda:0', grad_fn=<MseLossBackward0>)\n",
      "tensor(0.0011, device='cuda:0', grad_fn=<MseLossBackward0>)\n",
      "tensor(0.0011, device='cuda:0', grad_fn=<MseLossBackward0>)\n",
      "tensor(0.0011, device='cuda:0', grad_fn=<MseLossBackward0>)\n",
      "tensor(0.0011, device='cuda:0', grad_fn=<MseLossBackward0>)\n",
      "tensor(0.0011, device='cuda:0', grad_fn=<MseLossBackward0>)\n",
      "tensor(0.0011, device='cuda:0', grad_fn=<MseLossBackward0>)\n",
      "tensor(0.0011, device='cuda:0', grad_fn=<MseLossBackward0>)\n",
      "tensor(0.0011, device='cuda:0', grad_fn=<MseLossBackward0>)\n",
      "tensor(0.0011, device='cuda:0', grad_fn=<MseLossBackward0>)\n",
      "tensor(0.0011, device='cuda:0', grad_fn=<MseLossBackward0>)\n",
      "tensor(0.0011, device='cuda:0', grad_fn=<MseLossBackward0>)\n",
      "tensor(0.0011, device='cuda:0', grad_fn=<MseLossBackward0>)\n",
      "tensor(0.0011, device='cuda:0', grad_fn=<MseLossBackward0>)\n",
      "tensor(0.0011, device='cuda:0', grad_fn=<MseLossBackward0>)\n",
      "tensor(0.0011, device='cuda:0', grad_fn=<MseLossBackward0>)\n",
      "tensor(0.0011, device='cuda:0', grad_fn=<MseLossBackward0>)\n",
      "tensor(0.0011, device='cuda:0', grad_fn=<MseLossBackward0>)\n",
      "tensor(0.0011, device='cuda:0', grad_fn=<MseLossBackward0>)\n",
      "tensor(0.0011, device='cuda:0', grad_fn=<MseLossBackward0>)\n",
      "tensor(0.0011, device='cuda:0', grad_fn=<MseLossBackward0>)\n",
      "tensor(0.0010, device='cuda:0', grad_fn=<MseLossBackward0>)\n",
      "tensor(0.0010, device='cuda:0', grad_fn=<MseLossBackward0>)\n",
      "tensor(0.0010, device='cuda:0', grad_fn=<MseLossBackward0>)\n",
      "tensor(0.0010, device='cuda:0', grad_fn=<MseLossBackward0>)\n",
      "tensor(0.0010, device='cuda:0', grad_fn=<MseLossBackward0>)\n",
      "tensor(0.0010, device='cuda:0', grad_fn=<MseLossBackward0>)\n",
      "tensor(0.0010, device='cuda:0', grad_fn=<MseLossBackward0>)\n",
      "tensor(0.0010, device='cuda:0', grad_fn=<MseLossBackward0>)\n",
      "tensor(0.0010, device='cuda:0', grad_fn=<MseLossBackward0>)\n",
      "tensor(0.0010, device='cuda:0', grad_fn=<MseLossBackward0>)\n",
      "tensor(0.0010, device='cuda:0', grad_fn=<MseLossBackward0>)\n",
      "tensor(0.0010, device='cuda:0', grad_fn=<MseLossBackward0>)\n",
      "tensor(0.0010, device='cuda:0', grad_fn=<MseLossBackward0>)\n",
      "tensor(0.0010, device='cuda:0', grad_fn=<MseLossBackward0>)\n",
      "tensor(0.0010, device='cuda:0', grad_fn=<MseLossBackward0>)\n",
      "tensor(0.0010, device='cuda:0', grad_fn=<MseLossBackward0>)\n"
     ]
    }
   ],
   "source": [
    "loss_history = []\n",
    "for i in range(50):\n",
    "    otp.zero_grad()\n",
    "    loss_value = loss_func(my_net(X),Y)\n",
    "    loss_value.backward()\n",
    "    print(loss_value)\n",
    "    otp.step()\n",
    "    loss_history.append(loss_value.item())"
   ]
  },
  {
   "cell_type": "code",
   "execution_count": 22,
   "metadata": {},
   "outputs": [
    {
     "data": {
      "text/plain": [
       "Text(0, 0.5, 'loss value')"
      ]
     },
     "execution_count": 22,
     "metadata": {},
     "output_type": "execute_result"
    },
    {
     "data": {
      "image/png": "[encoded data removed]",
      "text/plain": [
       "<Figure size 640x480 with 1 Axes>"
      ]
     },
     "metadata": {},
     "output_type": "display_data"
    }
   ],
   "source": [
    "import matplotlib.pyplot as plt\n",
    "%matplotlib inline\n",
    "plt.plot(loss_history)\n",
    "plt.title('Loss variation over increasing epochs')\n",
    "plt.xlabel('epochs')\n",
    "plt.ylabel('loss value')"
   ]
  }
 ],
 "metadata": {
  "kernelspec": {
   "display_name": "Python 3.7.13 ('pytorch')",
   "language": "python",
   "name": "python3"
  },
  "language_info": {
   "codemirror_mode": {
    "name": "ipython",
    "version": 3
   },
   "file_extension": ".py",
   "mimetype": "text/x-python",
   "name": "python",
   "nbconvert_exporter": "python",
   "pygments_lexer": "ipython3",
   "version": "3.7.13"
  },
  "orig_nbformat": 4,
  "vscode": {
   "interpreter": {
    "hash": "ae33be8d070ec4898e41bd67cea534f6c799a555c8d7c158f20e5f493ed530b3"
   }
  }
 },
 "nbformat": 4,
 "nbformat_minor": 2
}
