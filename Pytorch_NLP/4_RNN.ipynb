{
 "cells": [
  {
   "cell_type": "code",
   "execution_count": null,
   "metadata": {},
   "outputs": [],
   "source": []
  }
 ],
 "metadata": {
  "kernelspec": {
   "display_name": "Python 3.9.7 ('base')",
   "language": "python",
   "name": "python3"
  },
  "language_info": {
   "name": "python",
   "version": "3.9.7"
  },
  "orig_nbformat": 4,
  "vscode": {
   "interpreter": {
    "hash": "0edf3c615f4d17b55c604257c927eba00f579e19d22370f9a0497461b73efaac"
   }
  }
 },
 "nbformat": 4,
 "nbformat_minor": 2
}
